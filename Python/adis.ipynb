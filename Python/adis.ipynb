{
 "cells": [
  {
   "cell_type": "code",
   "execution_count": 1,
   "id": "cac62195-4fca-4664-bb48-83c26f761ceb",
   "metadata": {},
   "outputs": [],
   "source": [
    "l = ['ecl:grn', 'cid:315 iyr:2012 hgt:192cm eyr:2023 pid:873355140 byr:1925 hcl:#cb2c03', '', 'byr:2027 hcl:ec0cfd ecl:blu cid:120', 'eyr:1937 pid:106018766 iyr:2010 hgt:154cm', '', 'byr:1965 eyr:2028 hgt:157cm', 'cid:236 iyr:2018 ecl:brn', 'hcl:#cfa07d pid:584111467', '', 'eyr:2029 ecl:hzl', 'iyr:1972 byr:1966', 'pid:2898897192', 'hgt:59cm hcl:z', '', 'pid:231652013 hcl:#602927 hgt:166', 'ecl:grn eyr:2025', 'byr:2008 iyr:1986', '', 'byr:1928 hgt:167cm', 'hcl:#18171d iyr:2012', 'ecl:oth pid:237657808 eyr:1944', '', 'hgt:73in ecl:grn byr:1931 pid:358388825 iyr:2020', 'hcl:#602927 eyr:2020']"
   ]
  },
  {
   "cell_type": "code",
   "execution_count": 14,
   "id": "16e97049-17c8-4269-bef7-66aa0bbd2dd1",
   "metadata": {},
   "outputs": [
    {
     "data": {
      "text/plain": [
       "['ecl:grn',\n",
       " 'cid:315 iyr:2012 hgt:192cm eyr:2023 pid:873355140 byr:1925 hcl:#cb2c03',\n",
       " '',\n",
       " 'byr:2027 hcl:ec0cfd ecl:blu cid:120',\n",
       " 'eyr:1937 pid:106018766 iyr:2010 hgt:154cm',\n",
       " '',\n",
       " 'byr:1965 eyr:2028 hgt:157cm',\n",
       " 'cid:236 iyr:2018 ecl:brn',\n",
       " 'hcl:#cfa07d pid:584111467',\n",
       " '',\n",
       " 'eyr:2029 ecl:hzl',\n",
       " 'iyr:1972 byr:1966',\n",
       " 'pid:2898897192',\n",
       " 'hgt:59cm hcl:z',\n",
       " '',\n",
       " 'pid:231652013 hcl:#602927 hgt:166',\n",
       " 'ecl:grn eyr:2025',\n",
       " 'byr:2008 iyr:1986',\n",
       " '',\n",
       " 'byr:1928 hgt:167cm',\n",
       " 'hcl:#18171d iyr:2012',\n",
       " 'ecl:oth pid:237657808 eyr:1944',\n",
       " '',\n",
       " 'hgt:73in ecl:grn byr:1931 pid:358388825 iyr:2020',\n",
       " 'hcl:#602927 eyr:2020']"
      ]
     },
     "execution_count": 14,
     "metadata": {},
     "output_type": "execute_result"
    }
   ],
   "source": [
    "l"
   ]
  },
  {
   "cell_type": "code",
   "execution_count": 30,
   "id": "a1819322-f89a-4787-9fc9-2cceec1c9fe4",
   "metadata": {},
   "outputs": [
    {
     "data": {
      "text/plain": [
       "['ecl:grn',\n",
       " 'cid:315',\n",
       " 'iyr:2012',\n",
       " 'hgt:192cm',\n",
       " 'eyr:2023',\n",
       " 'pid:873355140',\n",
       " 'byr:1925',\n",
       " 'hcl:#cb2c03',\n",
       " 'byr:2027',\n",
       " 'hcl:ec0cfd',\n",
       " 'ecl:blu',\n",
       " 'cid:120',\n",
       " 'eyr:1937',\n",
       " 'pid:106018766',\n",
       " 'iyr:2010',\n",
       " 'hgt:154cm',\n",
       " 'byr:1965',\n",
       " 'eyr:2028',\n",
       " 'hgt:157cm',\n",
       " 'cid:236',\n",
       " 'iyr:2018',\n",
       " 'ecl:brn',\n",
       " 'hcl:#cfa07d',\n",
       " 'pid:584111467',\n",
       " 'eyr:2029',\n",
       " 'ecl:hzl',\n",
       " 'iyr:1972',\n",
       " 'byr:1966',\n",
       " 'pid:2898897192',\n",
       " 'hgt:59cm',\n",
       " 'hcl:z',\n",
       " 'pid:231652013',\n",
       " 'hcl:#602927',\n",
       " 'hgt:166',\n",
       " 'ecl:grn',\n",
       " 'eyr:2025',\n",
       " 'byr:2008',\n",
       " 'iyr:1986',\n",
       " 'byr:1928',\n",
       " 'hgt:167cm',\n",
       " 'hcl:#18171d',\n",
       " 'iyr:2012',\n",
       " 'ecl:oth',\n",
       " 'pid:237657808',\n",
       " 'eyr:1944',\n",
       " 'hgt:73in',\n",
       " 'ecl:grn',\n",
       " 'byr:1931',\n",
       " 'pid:358388825',\n",
       " 'iyr:2020',\n",
       " 'hcl:#602927',\n",
       " 'eyr:2020']"
      ]
     },
     "execution_count": 30,
     "metadata": {},
     "output_type": "execute_result"
    }
   ],
   "source": [
    "import re\n",
    "\n",
    "c = re.compile(r'([a-z]+:[#a-z0-9]+)')\n",
    "c.findall(\" \".join([x for x in l]))"
   ]
  },
  {
   "cell_type": "code",
   "execution_count": null,
   "id": "9215999c-38d0-4b05-91e7-fb6e79302bd0",
   "metadata": {},
   "outputs": [],
   "source": []
  }
 ],
 "metadata": {
  "kernelspec": {
   "display_name": "Python 3 (ipykernel)",
   "language": "python",
   "name": "python3"
  },
  "language_info": {
   "codemirror_mode": {
    "name": "ipython",
    "version": 3
   },
   "file_extension": ".py",
   "mimetype": "text/x-python",
   "name": "python",
   "nbconvert_exporter": "python",
   "pygments_lexer": "ipython3",
   "version": "3.7.11"
  }
 },
 "nbformat": 4,
 "nbformat_minor": 5
}
